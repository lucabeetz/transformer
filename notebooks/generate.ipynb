{
 "cells": [
  {
   "cell_type": "code",
   "execution_count": 7,
   "metadata": {},
   "outputs": [],
   "source": [
    "import torch\n",
    "from src.model import GPT2\n",
    "from src.bpe import BPETokenizer\n",
    "from transformers import GPT2Tokenizer"
   ]
  },
  {
   "cell_type": "code",
   "execution_count": 8,
   "metadata": {},
   "outputs": [],
   "source": [
    "model = GPT2.from_pretrained()\n",
    "model.eval()\n",
    "\n",
    "tokenizer_bpe = BPETokenizer()\n",
    "tokenizer_hf = GPT2Tokenizer.from_pretrained('gpt2')"
   ]
  },
  {
   "cell_type": "code",
   "execution_count": 9,
   "metadata": {},
   "outputs": [],
   "source": [
    "# HF tokenizer and BPE tokenizer should create the same encodings\n",
    "encoded_hf = tokenizer_hf.encode(\"Hello, my dog is cute\", return_tensors='pt')\n",
    "encoded_bpe = tokenizer_bpe.encode(\"Hello, my dog is cute\")\n",
    "\n",
    "assert torch.equal(encoded_hf, encoded_bpe)"
   ]
  },
  {
   "cell_type": "code",
   "execution_count": 18,
   "metadata": {},
   "outputs": [],
   "source": [
    "# Encode input\n",
    "text = 'Machine Learning is'\n",
    "x = tokenizer_bpe(text)\n",
    "\n",
    "y = model.generate(x, max_new_tokens=20)\n",
    "out = tokenizer_bpe.decode(y[0])"
   ]
  },
  {
   "cell_type": "code",
   "execution_count": 19,
   "metadata": {},
   "outputs": [
    {
     "name": "stdout",
     "output_type": "stream",
     "text": [
      "Machine Learning is made up of two-faction thing sizes, but can never ever be two different-size.\n"
     ]
    }
   ],
   "source": [
    "print(out)"
   ]
  }
 ],
 "metadata": {
  "kernelspec": {
   "display_name": "Python 3.10.4 ('dev')",
   "language": "python",
   "name": "python3"
  },
  "language_info": {
   "codemirror_mode": {
    "name": "ipython",
    "version": 3
   },
   "file_extension": ".py",
   "mimetype": "text/x-python",
   "name": "python",
   "nbconvert_exporter": "python",
   "pygments_lexer": "ipython3",
   "version": "3.10.4"
  },
  "orig_nbformat": 4,
  "vscode": {
   "interpreter": {
    "hash": "542b945083c67c9f944045fafa5f0a81f236d7ed756bfd69fc2d950afe4e3d85"
   }
  }
 },
 "nbformat": 4,
 "nbformat_minor": 2
}
